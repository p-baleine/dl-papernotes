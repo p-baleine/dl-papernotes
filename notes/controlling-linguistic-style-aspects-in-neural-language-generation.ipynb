{
 "cells": [
  {
   "cell_type": "markdown",
   "metadata": {},
   "source": [
    "# [Controlling Linguistic Style Aspects in Neural Language Generation](https://arxiv.org/abs/1707.02633)\n",
    "\n",
    "TLDR; 著者たちは文章生成のタスクにおいて、生成文の内容と文体を制御するフレームワークを提案している。文章生成の枠組みとしてはLSTMを用いた条件付きRNNモデルを用い、条件として複数の特性値から得た埋め込み表現を連結したものを用いている。特性としては文体を制御するもの(Professional, Descriptive等)と内容を制御するもの(Sentiment等)を用いている。著者達はRotten Tomatoesから取得した映画のレビューをアノテートした文章をデータとして用い、特性値を用いた条件付きモデルのほうがこれを用いないモデルに比べてperplexityでより良い値が得られたとしている。\n",
    "\n",
    "---"
   ]
  },
  {
   "cell_type": "markdown",
   "metadata": {},
   "source": [
    "#### Key Points\n",
    "\n",
    "* Goal: 文章生成のタスクにおいて、生成文の内容と文体を制御できるようにする\n",
    "* 文体の制御は、社会的な文脈(social context)に合わせてメッセージを伝えるために必要不可欠である\n",
    "* 著者達は、生成文の内容と文体の特性(property)を制御できる文章生成フレームワークを提案している\n",
    "* 文章生成は条件付きRNNモデルをもとにしている\n",
    "  * このモデルは文脈ベクトルを与えられた上で文章を生成する\n",
    "  * 文脈ベクトルは内容と文体の特性をエンコードしている\n",
    "    * 文脈ベクトルは各特性値の埋め込み表現を連結したもの\n",
    "    * 文脈ベクトルは入力ベクトル(単語の埋め込み表現)に連結して用いる\n",
    "  * 学習時は、前もって特性値でラベル付けされたデータを学習する\n",
    "  * テスト時は、所望の特性値を与えて文章生成する\n",
    "* 類似した最近の研究である[Hu et al., 2017](https://arxiv.org/abs/1703.00955)との相違点:\n",
    "  * Hu et al., 2017はVAEとholistic attribute discriminatorを組み合わせた新しい生成モデルを提案している\n",
    "  * 対照的に著者達はシンプルで十分に確立された機構―LSTMをベースとした条件付きRNNモデルを用いている\n",
    "  * Hu et al., 2017は特性として２つ(sentimentとtense)を用いている\n",
    "  * 対照的に著者達は特性として内容ベースのものを2つ(感情スコアとトピック)と文体ベースのものを4つ(文長、記述的か、主観的か、(批評家の)プロの文体か)を用いている\n",
    "  * Hu et al., 2017は、学習・評価時共に16単語を上限とした文章を用いている\n",
    "  * 対照的に著者達は自然に存在し得る文長を扱っている\n",
    "* 特性値:\n",
    "  * 文体特性\n",
    "    * Professional: プロの批評家によって記述された文体か否か(True/False)\n",
    "    * Personal: レビュ―が個人的な経験を記述しているか(主観的)否か(True/False)\n",
    "    * Length: 単語の数(10単語以下/11-20単語/21-40単語/40単語より多い)\n",
    "    * Descriptive: 記述的なスタイルか否か(True/False)\n",
    "  * 内容特性\n",
    "    * Sentiment: Positive/Neutral/Negative\n",
    "    * Theme: Plot/Acting/Production/Effects/Other\n",
    "* データは[Rotten Tomatoes](https://www.rottentomatoes.com/)から取得した7500本の映画に対する1002625のレビュー、これらに人手／半自動的(例えばProfessional特性は、レビュワーがプロの批評家であればTrueにする等)にアノテートし得られた2773435文章\n",
    "* 条件付きモデルは、条件を与えられないモデルに対しより良いperplexityの値を示した(テストデータで23.3と24.4)\n",
    "* 条件付きモデルと、任意の特性値の集合に対応したデータのサブセットで学習したモデル(dedicatedモデル)を比較すると、\n",
    "  * 用いた特性が少ない場合はdedicatedモデルの方がperplexityの値がよくなった\n",
    "  * 用いた特性が増えていくと、dedicatedモデルを学習するためのデータは逆に少なくなるため、条件付きモデルの方がperplexityの値がよくなった\n",
    "\n",
    "#### Thoughts\n",
    "\n",
    "* これだと任意の単語と6つの特性値を与えると、与えられた特性にそった文章が得られる\n",
    "\n",
    "#### 参考文献\n",
    "\n",
    "* Ficler, Jessica, and Yoav Goldberg. \"Controlling Linguistic Style Aspects in Neural Language Generation.\" arXiv preprint arXiv:1707.02633 (2017)."
   ]
  },
  {
   "cell_type": "code",
   "execution_count": null,
   "metadata": {
    "collapsed": true
   },
   "outputs": [],
   "source": []
  }
 ],
 "metadata": {
  "kernelspec": {
   "display_name": "Python 3",
   "language": "python",
   "name": "python3"
  },
  "language_info": {
   "codemirror_mode": {
    "name": "ipython",
    "version": 3
   },
   "file_extension": ".py",
   "mimetype": "text/x-python",
   "name": "python",
   "nbconvert_exporter": "python",
   "pygments_lexer": "ipython3",
   "version": "3.5.1"
  }
 },
 "nbformat": 4,
 "nbformat_minor": 0
}
